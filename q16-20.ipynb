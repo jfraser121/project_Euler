{
 "cells": [
  {
   "cell_type": "code",
   "execution_count": null,
   "id": "c9844cb7",
   "metadata": {},
   "outputs": [],
   "source": [
    "#q16 \n",
    "total = sum(int(c) for c in str(2 ** 1000))\n",
    "print(total)"
   ]
  },
  {
   "cell_type": "code",
   "execution_count": 18,
   "id": "770bb2e2",
   "metadata": {},
   "outputs": [
    {
     "name": "stdout",
     "output_type": "stream",
     "text": [
      "2074667\n"
     ]
    }
   ],
   "source": [
    "#q17 If all the numbers from 1 to 1000 (one thousand) inclusive were written out in words, how many letters would be used?\n",
    "# look for patterns (lol) \n",
    "\n",
    "ones = [\"\", \"one\", \"two\", \"three\", \"four\", \"five\", \"six\", \"seven\", \"eight\", \"nine\"]\n",
    "teens = [\"ten\", \"eleven\", \"twelve\", \"thirteen\", \"fourteen\", \"fifteen\", \"sixteen\", \"seventeen\", \"eighteen\", \"nineteen\"]\n",
    "xtens = [\"\", \"twenty\", \"thirty\", \"forty\", \"fifty\", \"sixty\", \"seventy\", \"eighty\", \"ninety\"]\n",
    "hunand = \"hundredand\"\n",
    "thou = \"thousand\"\n",
    "\n",
    "length = 0\n",
    "\n",
    "def one_to_99(length):\n",
    "    for ten in xtens:\n",
    "        for one in ones:\n",
    "#             print(ten+one)\n",
    "            length += len(ten+one)\n",
    "    for teen in teens:\n",
    "#         print(teen)\n",
    "        length += len(teen)\n",
    "    return length\n",
    "\n",
    "def the_rest(length):\n",
    "    for one in ones:\n",
    "#         print(one+ \"hundred\")\n",
    "        length += len(one + \"hundred\") # hundreds\n",
    "        length += one_to_99(length)\n",
    "        for _ in range(99):\n",
    "#             print(one+hunand)\n",
    "            length += len(one + hunand)\n",
    "    for _ in range(99):\n",
    "            length -= len(hunand)\n",
    "    return length        \n",
    "\n",
    "length = the_rest(length)\n",
    "length += len(\"one\" + thou)\n",
    "print(length)"
   ]
  },
  {
   "cell_type": "code",
   "execution_count": 41,
   "id": "e7eff945",
   "metadata": {},
   "outputs": [
    {
     "name": "stdout",
     "output_type": "stream",
     "text": [
      "21124\n"
     ]
    }
   ],
   "source": [
    "#q17: trying again\n",
    "# did it by printing everything perfectly and in order, then adding up the lengths of all the strings\n",
    "# above i tried to just logic my way through and keep a mental tally. definitely not viabl\n",
    "\n",
    "ones_place = [\"\", \"one\", \"two\", \"three\", \"four\", \"five\", \"six\", \"seven\", \"eight\", \"nine\"]\n",
    "tens_place_teens = [\"ten\", \"eleven\", \"twelve\", \"thirteen\", \"fourteen\", \"fifteen\", \"sixteen\", \"seventeen\", \"eighteen\", \"nineteen\"]\n",
    "tens_place = [\"\", \"_teens\", \"twenty\", \"thirty\", \"forty\", \"fifty\", \"sixty\", \"seventy\", \"eighty\", \"ninety\"]\n",
    "\n",
    "def one_to_100(hundred):\n",
    "    length = 0\n",
    "    i = 0\n",
    "    while i < 10:\n",
    "        for j in range(10):\n",
    "            if i != 1:\n",
    "                if hundred != \"\" and (i > 0 or j > 0):\n",
    "#                     print(hundred + \"hundredand\" + tens_place[i] + ones_place[j])\n",
    "                    length += len(hundred + \"hundredand\" + tens_place[i] + ones_place[j])\n",
    "                elif hundred != \"\":\n",
    "#                     print(hundred + \"hundred\" + tens_place[i] + ones_place[j])\n",
    "                    length += len(hundred + \"hundred\" + tens_place[i] + ones_place[j])\n",
    "                else:\n",
    "#                     print(tens_place[i] + ones_place[j])\n",
    "                    length += len(tens_place[i] + ones_place[j])\n",
    "            else:\n",
    "                if hundred != \"\":\n",
    "#                     print(hundred + \"hundredand\" + tens_place_teens[j])\n",
    "                    length += len(hundred + \"hundredand\" + tens_place_teens[j])\n",
    "                else:\n",
    "#                     print(tens_place_teens[j])\n",
    "                    length += len(tens_place_teens[j])\n",
    "        i += 1\n",
    "    return length\n",
    "          \n",
    "    \n",
    "length = 0\n",
    "for hundred in ones_place:\n",
    "    length += one_to_100(hundred)\n",
    "length += len(\"onethousand\")\n",
    "\n",
    "print(length)"
   ]
  },
  {
   "cell_type": "code",
   "execution_count": 65,
   "id": "5b561ff2",
   "metadata": {},
   "outputs": [
    {
     "name": "stdout",
     "output_type": "stream",
     "text": [
      "1074\n"
     ]
    }
   ],
   "source": [
    "#q18 triangle shenanigans\n",
    "#gotta be dynamic programming related surely\n",
    "#so we establish a matrix list in list joint to stroe the things,\n",
    "#then take sums of stuff as we go down & max() to see what gets kept \n",
    "\n",
    "bigass_triangle = \"\"\"75\n",
    "95 64\n",
    "17 47 82\n",
    "18 35 87 10\n",
    "20 04 82 47 65\n",
    "19 01 23 75 03 34\n",
    "88 02 77 73 07 63 67\n",
    "99 65 04 28 06 16 70 92\n",
    "41 41 26 56 83 40 80 70 33\n",
    "41 48 72 33 47 32 37 16 94 29\n",
    "53 71 44 65 25 43 91 52 97 51 14\n",
    "70 11 33 28 77 73 17 78 39 68 17 57\n",
    "91 71 52 38 17 14 91 43 58 50 27 29 48\n",
    "63 66 04 68 89 53 67 30 73 16 69 87 40 31\n",
    "04 62 98 27 23 09 70 98 73 93 38 53 60 04 23\"\"\"\n",
    "\n",
    "# tri = [list(map(int, row.split(\" \"))) for row in bigass_triangle.split(\"\\n\")]\n",
    "tri = [[int(x) for x in row.split(\" \")] for row in bigass_triangle.split(\"\\n\")]\n",
    "\n",
    "def max_sum(space):\n",
    "    max_space = [row.copy() for row in space] #copying makes whole process way easier and doesn't mess with original \n",
    "    for i, row in enumerate(space):\n",
    "        if i + 1 < len(space):\n",
    "            for j, value in enumerate(row):\n",
    "                for offset in [0, 1]:\n",
    "                    if j + offset < len(space[i + 1]):\n",
    "                        max_space[i + 1][j + offset] = max(\n",
    "                            max_space[i + 1][j + offset], max_space[i][j] + space[i + 1][j + offset]\n",
    "                        )\n",
    "\n",
    "    return max(max_space[-1])\n",
    "    \n",
    "    \n",
    "print(max_sum(tri))"
   ]
  },
  {
   "cell_type": "code",
   "execution_count": 67,
   "id": "e223c7c2",
   "metadata": {},
   "outputs": [
    {
     "name": "stdout",
     "output_type": "stream",
     "text": [
      "[[325], [148, 234], [31, 85, 168], [27, 23, 9, 70]]\n"
     ]
    }
   ],
   "source": [
    "#q18 but bottom up! :o\n",
    "\n",
    "def max_sum(triangle):\n",
    "    # Create a copy of the triangle to store maximum sums\n",
    "    max_triangle = [row.copy() for row in triangle]\n",
    "\n",
    "    # Start from the second-to-last row and move upwards\n",
    "    for i in range(len(triangle) - 2, -1, -1):\n",
    "        for j in range(len(triangle[i])):\n",
    "            # Update the current position with the maximum of the two possible paths\n",
    "            max_triangle[i][j] += max(max_triangle[i + 1][j], max_triangle[i + 1][j + 1])\n",
    "\n",
    "    # The top of the triangle now contains the maximum sum\n",
    "    return max_triangle\n",
    "\n",
    "# Example usage:\n",
    "triangle_space = [\n",
    "    [91],\n",
    "    [63, 66],\n",
    "    [4, 62, 98],\n",
    "    [27, 23, 9, 70]\n",
    "]\n",
    "\n",
    "result = max_sum(triangle_space)\n",
    "print(result)\n"
   ]
  }
 ],
 "metadata": {
  "kernelspec": {
   "display_name": "Python 3 (ipykernel)",
   "language": "python",
   "name": "python3"
  },
  "language_info": {
   "codemirror_mode": {
    "name": "ipython",
    "version": 3
   },
   "file_extension": ".py",
   "mimetype": "text/x-python",
   "name": "python",
   "nbconvert_exporter": "python",
   "pygments_lexer": "ipython3",
   "version": "3.10.9"
  }
 },
 "nbformat": 4,
 "nbformat_minor": 5
}
