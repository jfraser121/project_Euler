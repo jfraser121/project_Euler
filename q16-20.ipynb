{
 "cells": [
  {
   "cell_type": "code",
   "execution_count": null,
   "id": "feb37527",
   "metadata": {},
   "outputs": [],
   "source": [
    "#q16 \n",
    "total = sum(int(c) for c in str(2 ** 1000))\n",
    "print(total)"
   ]
  },
  {
   "cell_type": "code",
   "execution_count": 18,
   "id": "fe34b05f",
   "metadata": {},
   "outputs": [
    {
     "name": "stdout",
     "output_type": "stream",
     "text": [
      "2074667\n"
     ]
    }
   ],
   "source": [
    "#q17 If all the numbers from 1 to 1000 (one thousand) inclusive were written out in words, how many letters would be used?\n",
    "# look for patterns (lol) \n",
    "\n",
    "ones = [\"\", \"one\", \"two\", \"three\", \"four\", \"five\", \"six\", \"seven\", \"eight\", \"nine\"]\n",
    "teens = [\"ten\", \"eleven\", \"twelve\", \"thirteen\", \"fourteen\", \"fifteen\", \"sixteen\", \"seventeen\", \"eighteen\", \"nineteen\"]\n",
    "xtens = [\"\", \"twenty\", \"thirty\", \"forty\", \"fifty\", \"sixty\", \"seventy\", \"eighty\", \"ninety\"]\n",
    "hunand = \"hundredand\"\n",
    "thou = \"thousand\"\n",
    "\n",
    "length = 0\n",
    "\n",
    "def one_to_99(length):\n",
    "    for ten in xtens:\n",
    "        for one in ones:\n",
    "#             print(ten+one)\n",
    "            length += len(ten+one)\n",
    "    for teen in teens:\n",
    "#         print(teen)\n",
    "        length += len(teen)\n",
    "    return length\n",
    "\n",
    "def the_rest(length):\n",
    "    for one in ones:\n",
    "#         print(one+ \"hundred\")\n",
    "        length += len(one + \"hundred\") # hundreds\n",
    "        length += one_to_99(length)\n",
    "        for _ in range(99):\n",
    "#             print(one+hunand)\n",
    "            length += len(one + hunand)\n",
    "    for _ in range(99):\n",
    "            length -= len(hunand)\n",
    "    return length        \n",
    "\n",
    "length = the_rest(length)\n",
    "length += len(\"one\" + thou)\n",
    "print(length)"
   ]
  },
  {
   "cell_type": "code",
   "execution_count": 41,
   "id": "47a4776f",
   "metadata": {},
   "outputs": [
    {
     "name": "stdout",
     "output_type": "stream",
     "text": [
      "21124\n"
     ]
    }
   ],
   "source": [
    "#q17: trying again\n",
    "# did it by printing everything perfectly and in order, then adding up the lengths of all the strings\n",
    "# above i tried to just logic my way through and keep a mental tally. definitely not viabl\n",
    "\n",
    "ones_place = [\"\", \"one\", \"two\", \"three\", \"four\", \"five\", \"six\", \"seven\", \"eight\", \"nine\"]\n",
    "tens_place_teens = [\"ten\", \"eleven\", \"twelve\", \"thirteen\", \"fourteen\", \"fifteen\", \"sixteen\", \"seventeen\", \"eighteen\", \"nineteen\"]\n",
    "tens_place = [\"\", \"_teens\", \"twenty\", \"thirty\", \"forty\", \"fifty\", \"sixty\", \"seventy\", \"eighty\", \"ninety\"]\n",
    "\n",
    "def one_to_100(hundred):\n",
    "    length = 0\n",
    "    i = 0\n",
    "    while i < 10:\n",
    "        for j in range(10):\n",
    "            if i != 1:\n",
    "                if hundred != \"\" and (i > 0 or j > 0):\n",
    "#                     print(hundred + \"hundredand\" + tens_place[i] + ones_place[j])\n",
    "                    length += len(hundred + \"hundredand\" + tens_place[i] + ones_place[j])\n",
    "                elif hundred != \"\":\n",
    "#                     print(hundred + \"hundred\" + tens_place[i] + ones_place[j])\n",
    "                    length += len(hundred + \"hundred\" + tens_place[i] + ones_place[j])\n",
    "                else:\n",
    "#                     print(tens_place[i] + ones_place[j])\n",
    "                    length += len(tens_place[i] + ones_place[j])\n",
    "            else:\n",
    "                if hundred != \"\":\n",
    "#                     print(hundred + \"hundredand\" + tens_place_teens[j])\n",
    "                    length += len(hundred + \"hundredand\" + tens_place_teens[j])\n",
    "                else:\n",
    "#                     print(tens_place_teens[j])\n",
    "                    length += len(tens_place_teens[j])\n",
    "        i += 1\n",
    "    return length\n",
    "          \n",
    "    \n",
    "length = 0\n",
    "for hundred in ones_place:\n",
    "    length += one_to_100(hundred)\n",
    "length += len(\"onethousand\")\n",
    "\n",
    "print(length)"
   ]
  }
 ],
 "metadata": {
  "kernelspec": {
   "display_name": "Python 3 (ipykernel)",
   "language": "python",
   "name": "python3"
  },
  "language_info": {
   "codemirror_mode": {
    "name": "ipython",
    "version": 3
   },
   "file_extension": ".py",
   "mimetype": "text/x-python",
   "name": "python",
   "nbconvert_exporter": "python",
   "pygments_lexer": "ipython3",
   "version": "3.10.9"
  }
 },
 "nbformat": 4,
 "nbformat_minor": 5
}
